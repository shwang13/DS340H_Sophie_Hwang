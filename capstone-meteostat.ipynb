{
 "cells": [
  {
   "cell_type": "markdown",
   "id": "5ea00e07-35ad-41c5-a1ad-926b7beafcd2",
   "metadata": {},
   "source": [
    "## Data Collection - Weather data via Meteostat API \n",
    "\n",
    "https://dev.meteostat.net/python/#installation\n",
    "the sample code on this page was modified to retrive recent, relevant weather data for desired date range"
   ]
  },
  {
   "cell_type": "markdown",
   "id": "c3209de9-c1bb-48ba-b494-9488786a1de8",
   "metadata": {},
   "source": [
    "#on terminal - pip install meteostat"
   ]
  },
  {
   "cell_type": "code",
   "execution_count": 1,
   "id": "49d9bf3b-4785-4636-97ed-7b3e6485bc45",
   "metadata": {},
   "outputs": [
    {
     "name": "stderr",
     "output_type": "stream",
     "text": [
      "FutureWarning: Support for nested sequences for 'parse_dates' in pd.read_csv is deprecated. Combine the desired columns with pd.to_datetime after parsing instead.\n"
     ]
    }
   ],
   "source": [
    "from datetime import datetime\n",
    "from meteostat import Stations, Daily\n",
    "import pandas as pd\n",
    "\n",
    "# Set time period\n",
    "start = datetime(2020, 1, 1)\n",
    "end = datetime(2024, 12, 31)\n",
    "\n",
    "# Get daily data\n",
    "data = Daily('72509', start, end)\n",
    "data = data.fetch()\n",
    "data=data.reset_index().iloc[:,[0,1,2,3,4,6,7,9]]\n",
    "\n",
    "data.to_csv('boston_weather_data.csv',index=False)\n"
   ]
  }
 ],
 "metadata": {
  "kernelspec": {
   "display_name": "Python 3 (ipykernel)",
   "language": "python",
   "name": "python3"
  },
  "language_info": {
   "codemirror_mode": {
    "name": "ipython",
    "version": 3
   },
   "file_extension": ".py",
   "mimetype": "text/x-python",
   "name": "python",
   "nbconvert_exporter": "python",
   "pygments_lexer": "ipython3",
   "version": "3.10.10"
  }
 },
 "nbformat": 4,
 "nbformat_minor": 5
}
